{
 "cells": [
  {
   "cell_type": "code",
   "execution_count": 2,
   "metadata": {
    "collapsed": true
   },
   "outputs": [],
   "source": [
    "import numpy as np\n",
    "import matplotlib.pyplot as plt\n",
    "import numpy.random as nprand"
   ]
  },
  {
   "cell_type": "markdown",
   "metadata": {},
   "source": [
    "# Street Racer\n",
    "\n",
    "In this notebook, you'll apply the methods of chapter 4 of Sutton's book to a simple racing problem."
   ]
  },
  {
   "cell_type": "markdown",
   "metadata": {},
   "source": [
    "The problem consists in driving a car as fast of possible over an exact distance $L$, and stopping there.\n",
    "\n",
    "This distance is divided in steps $0, ..., L$. The car can drive at three different speed: _low_, _medium_, _high_. Leaving step $j$ at _low_ speed, it will move to $j+1$. _Medium_ and _high_ bring it to $j+2$ and $j+3$, respectively.\n",
    "\n",
    "At any step, the driver can decide to _decelerate_, _maintain speed_ or _accelerate_. Decelarating will cause the car to leave its current place at one speed lower. If the car is already at _low_ speed, decelarating keeps it in the same spot. Maintaining speed does exactly what you think. Accelerating will increase the speed by one, except at _high_ speed, where it is equivalent to maintaining speed.\n",
    "\n",
    "The car starts on step $0$ at _low_ speed.\n",
    "\n",
    "Beyond the $L$ distance there is a huge, hot lake of lava. Needless to say, the car must be able to stop at $L$, or the driver will suffer quite a lot."
   ]
  },
  {
   "cell_type": "raw",
   "metadata": {},
   "source": [
    "    car ->                    ||/\\/\\/\n",
    "     |_______________ ... ____||/\\/ lava\n",
    "     |    |    |    |       | ||/\\/\\/\n",
    "     0    1    2    3       L ||/\\/\\/"
   ]
  },
  {
   "cell_type": "markdown",
   "metadata": {},
   "source": [
    "To help the driver win the race and not die, build a model of the problem and apply the policy iteration and value iteration methods to find her optimal trajectory.\n",
    "\n",
    "As this problem is an (over-)simplification of our traffic light problem, any work done here could serve as a building block for later."
   ]
  },
  {
   "cell_type": "markdown",
   "metadata": {},
   "source": [
    "# Building the model"
   ]
  },
  {
   "cell_type": "markdown",
   "metadata": {},
   "source": [
    "Start by figuring out the number of states you will need and build transition matrices for every action. For now, actions move the car from state to state in the deterministic manner described above."
   ]
  },
  {
   "cell_type": "code",
   "execution_count": 86,
   "metadata": {
    "collapsed": true
   },
   "outputs": [],
   "source": [
    "l = 20"
   ]
  },
  {
   "cell_type": "code",
   "execution_count": 87,
   "metadata": {
    "collapsed": false,
    "scrolled": false
   },
   "outputs": [],
   "source": [
    "T_decelerate = np.zeros(shape=(3*l+1, 3*l+1))\n",
    "T_maintain = np.zeros(shape=(3*l+1, 3*l+1))\n",
    "T_accel = np.zeros(shape=(3*l+1, 3*l+1))"
   ]
  },
  {
   "cell_type": "markdown",
   "metadata": {},
   "source": [
    "we have three states for each position then we have a lava state (absorbing state)"
   ]
  },
  {
   "cell_type": "markdown",
   "metadata": {},
   "source": [
    "the matrix repeats itself for each action :  (here the decelerate matrix)\n",
    "\n",
    "\\begin{pmatrix}1&0&0 & 0&0&0 & 0&0&0 &  0&0&0 & \\ldots \n",
    "\\\\ 0&0&0 & 1&0&0 & 0&0&0 &  0&0&0 & \\ldots \n",
    "\\\\ 0&0&0 & 0&0&0 & 0&1&0 &  0&0&0 & \\ldots\n",
    "\\\\ 0&0&0 & 1&0&0 & 0&0&0 &  0&0&0 & \\ldots\n",
    "\\\\ 0&0&0 & 0&0&0 & 1&0&0 &  0&0&0 & \\ldots\n",
    "\\\\ 0&0&0 & 0&0&0 & 0&0&0 &  0&1&0 & \\ldots\n",
    "\\end{pmatrix}"
   ]
  },
  {
   "cell_type": "code",
   "execution_count": 88,
   "metadata": {
    "collapsed": false
   },
   "outputs": [],
   "source": [
    "n=len(T_decelerate)\n",
    "\n",
    "for i in range(n-1):\n",
    "    if (i%3==0 ):\n",
    "        T_decelerate[i][i]=1        #if at low speed and decelerating : stay on the same spot at low speed\n",
    "    if (i%3==1):                \n",
    "        if (i+2>n-1):\n",
    "            T_decelerate[i][n-1]=1  #if action takes us beyond l : we fall into the lava-state  \n",
    "        else :     \n",
    "            T_decelerate[i][i+2]=1  #other wise we just end up in the next position with low speed since we are in medium \n",
    "    if (i%3==2):\n",
    "        if (i+5>n-1):\n",
    "            T_decelerate[i][n-1]=1  #if action takes us beyond l : we fall into the lava-state \n",
    "        else : \n",
    "            T_decelerate[i][i+5]=1  #otherwise we just end up two states after with medium speed \n",
    "                       \n",
    "\n",
    "for i in range(n-1):\n",
    "    if (i%3==0):\n",
    "        if (i+7>n-1):\n",
    "            T_accel[i][n-1]=1\n",
    "        else :\n",
    "            T_accel[i][i+7]=1\n",
    "        if (i+3 > n-1 ):\n",
    "            T_maintain[i][n-1]=1\n",
    "        else:\n",
    "            T_maintain[i][i+3]=1\n",
    "    if (i%3==1):\n",
    "        if (i+10>n-1):\n",
    "            T_accel[i][n-1]=1\n",
    "        else : \n",
    "            T_accel[i][i+10]=1\n",
    "        if (i+6>n-1):\n",
    "            T_maintain[i][n-1]=1\n",
    "        else :\n",
    "            T_maintain[i][i+6]=1\n",
    "    if (i%3==2):\n",
    "        if(i+9>n-1):\n",
    "            T_accel[i][n-1]=1\n",
    "            T_maintain[i][n-1]=1\n",
    "        else :\n",
    "            T_accel[i][i+9]=1\n",
    "            T_maintain[i][i+9]=1\n",
    "\n",
    "            \n",
    "#once dead you stay dead !            \n",
    "T_accel[n-1][n-1]=1\n",
    "T_maintain[n-1][n-1]=1\n",
    "T_decelerate[n-1][n-1]=1 "
   ]
  },
  {
   "cell_type": "markdown",
   "metadata": {},
   "source": [
    "we check for any encoding issues in the matrices : "
   ]
  },
  {
   "cell_type": "code",
   "execution_count": 89,
   "metadata": {
    "collapsed": true
   },
   "outputs": [],
   "source": [
    "def error_matrix(A):\n",
    "    error=np.zeros(len(A))                  #we haven't detected any outcome to this action : issue\n",
    "    for i in range(0,len(A)):\n",
    "        for j in range(0,len(A)):\n",
    "            if A[i][j]==1 and error[i]==0 : #we have one resulting state after this action, this is good\n",
    "                error[i]=1\n",
    "            elif A[i][j]==1 and error[i]==1: #we have more than one outcome : here issue since it's deterministic\n",
    "                error[i]=2\n",
    "    print(\"erreur de type pas d'actions associées \",np.where(error == 0)[0])\n",
    "    print(\"erreur de type deux actions ou plus associées \",np.where(error == 2)[0],\":\")\n",
    "    for i in np.where(error == 2)[0]:\n",
    "        print(A[i])"
   ]
  },
  {
   "cell_type": "code",
   "execution_count": 90,
   "metadata": {
    "collapsed": false
   },
   "outputs": [
    {
     "name": "stdout",
     "output_type": "stream",
     "text": [
      "deceleration matrix\n",
      "erreur de type pas d'actions associées  []\n",
      "erreur de type deux actions ou plus associées  [] :\n",
      "acceleration matrix\n",
      "erreur de type pas d'actions associées  []\n",
      "erreur de type deux actions ou plus associées  [] :\n",
      "maintain matrix\n",
      "erreur de type pas d'actions associées  []\n",
      "erreur de type deux actions ou plus associées  [] :\n"
     ]
    }
   ],
   "source": [
    "print(\"deceleration matrix\")\n",
    "error_matrix(T_decelerate)\n",
    "print(\"acceleration matrix\")\n",
    "error_matrix(T_accel)\n",
    "print(\"maintain matrix\")\n",
    "error_matrix(T_maintain)"
   ]
  },
  {
   "cell_type": "markdown",
   "metadata": {},
   "source": [
    "And define the reward function"
   ]
  },
  {
   "cell_type": "code",
   "execution_count": 151,
   "metadata": {
    "collapsed": false
   },
   "outputs": [],
   "source": [
    "R = -np.ones(3*l+1)\n",
    "lava = -10^l*100\n",
    "R[-1]=  lava  #lava state : you die\n",
    "R[-4]=10^l         #L in low speed ! win ! \n",
    "\n",
    "#are these ones really usefull ? bad reward when entering L state with medium or high speed\n",
    "R[-2]= lava\n",
    "R[-3]= lava"
   ]
  },
  {
   "cell_type": "markdown",
   "metadata": {},
   "source": [
    "defining a policy : at the beginning we choose a random policy. A policy is here encoded as a sequence of letters : 1,2,3 for decelerate, maintain, accelerate. The sequence is of length 3*l+1"
   ]
  },
  {
   "cell_type": "code",
   "execution_count": 97,
   "metadata": {
    "collapsed": false
   },
   "outputs": [],
   "source": [
    "policy_initial = np.zeros(3*l+1)\n",
    "for i in range(len(policy_initial)):\n",
    "    policy_initial[i]=nprand.choice([1,2,3])"
   ]
  },
  {
   "cell_type": "code",
   "execution_count": 98,
   "metadata": {
    "collapsed": false
   },
   "outputs": [
    {
     "data": {
      "text/plain": [
       "array([ 1.,  2.,  1.,  2.,  3.,  1.,  2.,  1.,  1.,  3.,  1.,  1.,  1.,\n",
       "        2.,  3.,  2.,  2.,  3.,  2.,  1.,  1.,  3.,  2.,  2.,  3.,  3.,\n",
       "        2.,  3.,  2.,  2.,  3.,  2.,  1.,  3.,  2.,  1.,  2.,  1.,  2.,\n",
       "        1.,  1.,  1.,  2.,  3.,  3.,  1.,  2.,  2.,  3.,  3.,  1.,  3.,\n",
       "        2.,  3.,  2.,  1.,  2.,  1.,  1.,  3.,  3.])"
      ]
     },
     "execution_count": 98,
     "metadata": {},
     "output_type": "execute_result"
    }
   ],
   "source": [
    "policy_initial"
   ]
  },
  {
   "cell_type": "markdown",
   "metadata": {},
   "source": [
    "Here we define the find_new_state function, which takes as argument a policy p and an index i. The index i represents the state we are in actually and the function return in which state we will be if we follow the policy "
   ]
  },
  {
   "cell_type": "code",
   "execution_count": 103,
   "metadata": {
    "collapsed": false
   },
   "outputs": [],
   "source": [
    "def find_new_state(p,i):\n",
    "\n",
    "# we find the action the policy tells us to take then we scan the corresponding matrix to find the resulting state\n",
    "# if the state is a \"low speed state\" and we choose to decelerate then we stay where we are, hence return i\n",
    "    \n",
    "    k=p[i]\n",
    "    \n",
    "    if k==1:\n",
    "        if i%3 == 0:\n",
    "            return i\n",
    "        else :\n",
    "            for j in range(len(T_decelerate[i])):\n",
    "                if  j != i and T_decelerate[i][j]==1:\n",
    "                    return  j    \n",
    "    elif k ==2 :\n",
    "        for j in range(len(T_maintain[i])):\n",
    "            if  j != i and T_maintain[i][j]==1:\n",
    "                return j\n",
    "            return j\n",
    "                \n",
    "    elif k==3:\n",
    "        for j in range(len(T_accel[i])):\n",
    "            if  j != i and T_accel[i][j]==1:\n",
    "                return j\n",
    "            return j\n",
    "\n",
    "    else :\n",
    "         raise ValueError(\"k should be between 1 and 3\")"
   ]
  },
  {
   "cell_type": "markdown",
   "metadata": {},
   "source": [
    "Problème de modélisation de l'environnement : la voiture a techniquement la possibilité de \"dépasser\" L, j'ai pas encore trouvé de bonne façon d'empêcher ça... Une bonnne façon peut être est juste de modifier la fonction find new state d'une façon plus optimale (test i-i%3 --> position puis check vitesse puis check action pour trouve position future et ensuite se débrouiller)\n",
    "\n",
    "Ou sinon rajouter un autre état, celui dans lequel il ne faudrait surtout pas aller et laisser tout le monde à -1, sauf L à +1 et lui à -10*3*l ? "
   ]
  },
  {
   "cell_type": "markdown",
   "metadata": {},
   "source": [
    "Tests while modeling everything : "
   ]
  },
  {
   "cell_type": "markdown",
   "metadata": {},
   "source": [
    "# Policy iteration"
   ]
  },
  {
   "cell_type": "markdown",
   "metadata": {},
   "source": [
    "Apply the policy iteration procedure to figure out the best policy to follow."
   ]
  },
  {
   "cell_type": "code",
   "execution_count": 129,
   "metadata": {
    "collapsed": true
   },
   "outputs": [],
   "source": [
    "#definition of  stopping criterion \n",
    "epsilon = 0.01\n",
    "#definition of discount factor\n",
    "gamma=0.9\n",
    "#definitions of the states"
   ]
  },
  {
   "cell_type": "markdown",
   "metadata": {},
   "source": [
    "this policy evaluation is only working for non-stochastic policies and is an in-place one "
   ]
  },
  {
   "cell_type": "code",
   "execution_count": 154,
   "metadata": {
    "collapsed": false
   },
   "outputs": [
    {
     "data": {
      "text/plain": [
       "-2010"
      ]
     },
     "execution_count": 154,
     "metadata": {},
     "output_type": "execute_result"
    }
   ],
   "source": [
    "lava"
   ]
  },
  {
   "cell_type": "code",
   "execution_count": 167,
   "metadata": {
    "collapsed": false
   },
   "outputs": [],
   "source": [
    "def policy_eval(p,epsilon):\n",
    "    delta = 10\n",
    "    V=np.zeros(3*l+1)\n",
    "    bla = 0\n",
    "    while(delta > epsilon):\n",
    "        delta = 0\n",
    "        for i in range(3*l+1):\n",
    "            v=V[i]\n",
    "            j=find_new_state(p,i)\n",
    "            V[i]=R[j]+gamma*V[j]\n",
    "            delta = max(delta,abs(v-V[i]))\n",
    "        bla = bla+1\n",
    "        print(delta)\n",
    "        print(bla)\n",
    "        \n",
    "    return V"
   ]
  },
  {
   "cell_type": "code",
   "execution_count": 91,
   "metadata": {
    "collapsed": false
   },
   "outputs": [],
   "source": [
    "#print(find_new_state(policy_initial,52))\n",
    "#policy_initial[52]"
   ]
  },
  {
   "cell_type": "code",
   "execution_count": 168,
   "metadata": {
    "collapsed": false,
    "scrolled": false
   },
   "outputs": [
    {
     "name": "stdout",
     "output_type": "stream",
     "text": [
      "2010.0\n",
      "1\n",
      "27.0\n",
      "2\n",
      "24.3\n",
      "3\n",
      "21.87\n",
      "4\n",
      "19.683\n",
      "5\n",
      "17.7147\n",
      "6\n",
      "15.94323\n",
      "7\n",
      "14.348907\n",
      "8\n",
      "12.9140163\n",
      "9\n",
      "11.62261467\n",
      "10\n",
      "10.460353203\n",
      "11\n",
      "9.4143178827\n",
      "12\n",
      "8.47288609443\n",
      "13\n",
      "7.62559748499\n",
      "14\n",
      "6.86303773649\n",
      "15\n",
      "6.17673396284\n",
      "16\n",
      "5.55906056656\n",
      "17\n",
      "5.0031545099\n",
      "18\n",
      "4.50283905891\n",
      "19\n",
      "4.05255515302\n",
      "20\n",
      "3.64729963772\n",
      "21\n",
      "3.28256967395\n",
      "22\n",
      "2.95431270655\n",
      "23\n",
      "2.6588814359\n",
      "24\n",
      "2.39299329231\n",
      "25\n",
      "2.15369396308\n",
      "26\n",
      "1.93832456677\n",
      "27\n",
      "1.74449211009\n",
      "28\n",
      "1.57004289908\n",
      "29\n",
      "1.41303860917\n",
      "30\n",
      "1.27173474826\n",
      "31\n",
      "1.14456127343\n",
      "32\n",
      "1.03010514609\n",
      "33\n",
      "0.927094631479\n",
      "34\n",
      "0.834385168331\n",
      "35\n",
      "0.750946651498\n",
      "36\n",
      "0.675851986348\n",
      "37\n",
      "0.608266787713\n",
      "38\n",
      "0.547440108942\n",
      "39\n",
      "0.492696098048\n",
      "40\n",
      "0.443426488243\n",
      "41\n",
      "0.399083839419\n",
      "42\n",
      "0.359175455477\n",
      "43\n",
      "0.323257909929\n",
      "44\n",
      "0.290932118936\n",
      "45\n",
      "0.261838907043\n",
      "46\n",
      "0.235655016338\n",
      "47\n",
      "0.212089514705\n",
      "48\n",
      "0.190880563234\n",
      "49\n",
      "0.171792506911\n",
      "50\n",
      "0.15461325622\n",
      "51\n",
      "0.139151930598\n",
      "52\n",
      "0.125236737538\n",
      "53\n",
      "0.112713063784\n",
      "54\n",
      "0.101441757406\n",
      "55\n",
      "0.0912975816651\n",
      "56\n",
      "0.0821678234986\n",
      "57\n",
      "0.0739510411487\n",
      "58\n",
      "0.0665559370339\n",
      "59\n",
      "0.0599003433305\n",
      "60\n",
      "0.0539103089974\n",
      "61\n",
      "0.0485192780977\n",
      "62\n",
      "0.0436673502879\n",
      "63\n",
      "0.0393006152592\n",
      "64\n",
      "0.0353705537332\n",
      "65\n",
      "0.0318334983599\n",
      "66\n",
      "0.0286501485239\n",
      "67\n",
      "0.0257851336715\n",
      "68\n",
      "0.0232066203044\n",
      "69\n",
      "0.0208859582739\n",
      "70\n",
      "0.0187973624465\n",
      "71\n",
      "0.0169176262019\n",
      "72\n",
      "0.0152258635817\n",
      "73\n",
      "0.0137032772235\n",
      "74\n",
      "0.0123329495012\n",
      "75\n",
      "0.0110996545511\n",
      "76\n",
      "0.00998968909596\n",
      "77\n",
      "0.00899072018638\n",
      "78\n",
      "0.00809164816769\n",
      "79\n",
      "0.00728248335093\n",
      "80\n",
      "0.00655423501587\n",
      "81\n",
      "0.00589881151427\n",
      "82\n",
      "0.00530893036284\n",
      "83\n",
      "0.00477803732656\n",
      "84\n",
      "0.00430023359388\n",
      "85\n",
      "0.00387021023454\n",
      "86\n",
      "0.00348318921107\n",
      "87\n",
      "0.00313487028995\n",
      "88\n",
      "0.00282138326094\n",
      "89\n",
      "0.00253924493484\n",
      "90\n",
      "0.00228532044139\n",
      "91\n",
      "0.00205678839723\n",
      "92\n",
      "0.00185110955749\n",
      "93\n",
      "0.00166599860177\n",
      "94\n",
      "0.0014993987416\n",
      "95\n",
      "0.00134945886742\n",
      "96\n",
      "0.00121451298071\n",
      "97\n",
      "0.00109306168264\n",
      "98\n",
      "0.000983755514369\n",
      "99\n",
      "[-9, -9, -9, -9, -9, -9, -9, -9, -9, -9, -9, -9, -9, -9, -9, -9, -9, -9, -9, -9, -9, -9, -9, -9, -9, -9, -9, -9, -9, -9, -9, -9, -9, -9, -9, -9, -9, -9, -9, -9, -9, -9, -9, -9, -9, -9, -9, -9, -9, -9, 268, -9, -9, -9, -9, 299, -9, 299, -2018, -9, -9]\n"
     ]
    }
   ],
   "source": [
    "print([int(elem) for elem in policy_eval(policy_initial,0.001)])"
   ]
  },
  {
   "cell_type": "markdown",
   "metadata": {},
   "source": [
    " <font color='red'>\n",
    "policy_improv is to be improved, but I don't know the exact command to do what I want, so it's a beginning "
   ]
  },
  {
   "cell_type": "code",
   "execution_count": 132,
   "metadata": {
    "collapsed": false
   },
   "outputs": [],
   "source": [
    "def policy_improv(p,V,boolean):\n",
    "    new_p=np.zeros(shape=3*l)\n",
    "    \n",
    "    for i in range(3*l):\n",
    "        for j in range(len(T_maintain[i])):\n",
    "            if  j != i and T_maintain[i][j]==1:\n",
    "                k=j\n",
    "        action_1=R[k]+gamma*V[k]\n",
    "        for j in range(len(T_accel[i])):\n",
    "            if  j != i and T_accel[i][j]==1:\n",
    "                k=j\n",
    "        action_2=R[k]+gamma*V[k]\n",
    "        for j in range(len(T_decelerate[i])):\n",
    "            if T_decelerate[i][j]==1:\n",
    "                k=j\n",
    "        action_3=R[k]+gamma*V[k]\n",
    "        new_p[i]=np.argmax([action_1,action_2,action_3])+1\n",
    "        if new_p[i]!=p[i]:\n",
    "            boolean = False\n",
    "    return new_p"
   ]
  },
  {
   "cell_type": "markdown",
   "metadata": {},
   "source": [
    "\n",
    "Now combine the two functions to iterate over policies!"
   ]
  },
  {
   "cell_type": "code",
   "execution_count": 133,
   "metadata": {
    "collapsed": false
   },
   "outputs": [],
   "source": [
    "# policy iteration\n",
    "p=policy_initial\n",
    "Delta_iter=1\n",
    "epsilon_iter=0.1\n",
    "policy_stable=False\n",
    "\n",
    "while  not policy_stable :\n",
    "    V=policy_eval(p,epsilon)\n",
    "    policy_stable= True\n",
    "    p=policy_improv(p,V,policy_stable)\n",
    "    \n"
   ]
  },
  {
   "cell_type": "code",
   "execution_count": 134,
   "metadata": {
    "collapsed": false
   },
   "outputs": [
    {
     "data": {
      "text/plain": [
       "array([   -9.99700309,    -9.99730278,    -9.99730278,    -9.99730278,\n",
       "          -9.99730278,    -9.99700309,    -9.99730278,    -9.99730278,\n",
       "          -9.99730278,    -9.99730278,    -9.99700309,    -9.99730278,\n",
       "          -9.99700309,    -9.99730278,    -9.99730278,    -9.99730278,\n",
       "          -9.99730278,    -9.99730278,    -9.99730278,    -9.99730278,\n",
       "          -9.99730278,    -9.99730278,    -9.99730278,    -9.99730278,\n",
       "          -9.99730278,    -9.99730278,    -9.99730278,    -9.99730278,\n",
       "          -9.99730278,    -9.99730278,    -9.99730278,    -9.99730278,\n",
       "          -9.99700309,    -9.99730278,    -9.99730278,    -9.99730278,\n",
       "          -9.99730278,    -9.99700309,    -9.99730278,    -9.99700309,\n",
       "          -9.99730278,    -9.99730278,    -9.99730278,    -9.99730278,\n",
       "          -9.99730278,    -9.99700309,    -9.99730278,    -9.99730278,\n",
       "          -9.99730278,    -9.99730278,   268.9100928 ,    -9.99730278,\n",
       "          -9.99730278,    -9.99730278,    -9.99730278,   299.9100928 ,\n",
       "          -9.99730278,   299.9100928 , -2018.99730278,    -9.99730278,\n",
       "          -9.99730278])"
      ]
     },
     "execution_count": 134,
     "metadata": {},
     "output_type": "execute_result"
    }
   ],
   "source": [
    "V"
   ]
  },
  {
   "cell_type": "code",
   "execution_count": 135,
   "metadata": {
    "collapsed": false
   },
   "outputs": [
    {
     "data": {
      "text/plain": [
       "array([ 3.,  1.,  1.,  2.,  1.,  3.,  1.,  1.,  1.,  1.,  3.,  1.,  3.,\n",
       "        1.,  1.,  1.,  1.,  1.,  1.,  1.,  1.,  1.,  2.,  1.,  1.,  1.,\n",
       "        1.,  1.,  1.,  1.,  2.,  1.,  3.,  1.,  1.,  1.,  1.,  3.,  1.,\n",
       "        3.,  2.,  1.,  1.,  3.,  1.,  3.,  1.,  1.,  2.,  1.,  3.,  1.,\n",
       "        3.,  3.,  1.,  3.,  1.,  3.,  1.,  1.])"
      ]
     },
     "execution_count": 135,
     "metadata": {},
     "output_type": "execute_result"
    }
   ],
   "source": [
    "p"
   ]
  },
  {
   "cell_type": "code",
   "execution_count": 136,
   "metadata": {
    "collapsed": false
   },
   "outputs": [
    {
     "data": {
      "text/plain": [
       "array([ 1.,  2.,  1.,  2.,  3.,  1.,  2.,  1.,  1.,  3.,  1.,  1.,  1.,\n",
       "        2.,  3.,  2.,  2.,  3.,  2.,  1.,  1.,  3.,  2.,  2.,  3.,  3.,\n",
       "        2.,  3.,  2.,  2.,  3.,  2.,  1.,  3.,  2.,  1.,  2.,  1.,  2.,\n",
       "        1.,  1.,  1.,  2.,  3.,  3.,  1.,  2.,  2.,  3.,  3.,  1.,  3.,\n",
       "        2.,  3.,  2.,  1.,  2.,  1.,  1.,  3.,  3.])"
      ]
     },
     "execution_count": 136,
     "metadata": {},
     "output_type": "execute_result"
    }
   ],
   "source": [
    "policy_initial"
   ]
  },
  {
   "cell_type": "markdown",
   "metadata": {},
   "source": [
    "To figure out if everything is going well, make sure that at each iteration you keep track of the value vector, as well as the trajectory of the car according to the current policy. The latter allows you to compute the current policy's total reward and plot the evolution."
   ]
  },
  {
   "cell_type": "markdown",
   "metadata": {},
   "source": [
    "Then use the stored values to make a video similar to _street_racer.mp4_ on the repo. The following procedure can be used to save figures."
   ]
  },
  {
   "cell_type": "code",
   "execution_count": 96,
   "metadata": {
    "collapsed": false,
    "scrolled": true
   },
   "outputs": [
    {
     "ename": "NameError",
     "evalue": "name 'values' is not defined",
     "output_type": "error",
     "traceback": [
      "\u001b[0;31m---------------------------------------------------------------------------\u001b[0m",
      "\u001b[0;31mNameError\u001b[0m                                 Traceback (most recent call last)",
      "\u001b[0;32m<ipython-input-96-b9c7be38faac>\u001b[0m in \u001b[0;36m<module>\u001b[0;34m()\u001b[0m\n\u001b[0;32m----> 1\u001b[0;31m \u001b[1;32mfor\u001b[0m \u001b[0midx\u001b[0m\u001b[1;33m,\u001b[0m \u001b[0mv\u001b[0m \u001b[1;32min\u001b[0m \u001b[0menumerate\u001b[0m\u001b[1;33m(\u001b[0m\u001b[0mvalues\u001b[0m\u001b[1;33m)\u001b[0m\u001b[1;33m:\u001b[0m\u001b[1;33m\u001b[0m\u001b[0m\n\u001b[0m\u001b[1;32m      2\u001b[0m     \u001b[0mv\u001b[0m \u001b[1;33m=\u001b[0m \u001b[0mnp\u001b[0m\u001b[1;33m.\u001b[0m\u001b[0marray\u001b[0m\u001b[1;33m(\u001b[0m\u001b[0mv\u001b[0m\u001b[1;33m[\u001b[0m\u001b[1;33m:\u001b[0m\u001b[0mtrap\u001b[0m\u001b[1;33m]\u001b[0m\u001b[1;33m)\u001b[0m\u001b[1;33m.\u001b[0m\u001b[0mreshape\u001b[0m\u001b[1;33m(\u001b[0m\u001b[1;36m3\u001b[0m\u001b[1;33m,\u001b[0m \u001b[0ml\u001b[0m\u001b[1;33m)\u001b[0m\u001b[1;33m\u001b[0m\u001b[0m\n\u001b[1;32m      3\u001b[0m     \u001b[0mfig\u001b[0m \u001b[1;33m=\u001b[0m \u001b[0mplt\u001b[0m\u001b[1;33m.\u001b[0m\u001b[0mfigure\u001b[0m\u001b[1;33m(\u001b[0m\u001b[0mfigsize\u001b[0m\u001b[1;33m=\u001b[0m\u001b[1;33m(\u001b[0m\u001b[0ml\u001b[0m\u001b[1;33m*\u001b[0m\u001b[1;36m2\u001b[0m\u001b[1;33m,\u001b[0m \u001b[1;36m6\u001b[0m\u001b[1;33m)\u001b[0m\u001b[1;33m,\u001b[0m \u001b[0mdpi\u001b[0m\u001b[1;33m=\u001b[0m\u001b[1;36m72\u001b[0m\u001b[1;33m)\u001b[0m\u001b[1;33m\u001b[0m\u001b[0m\n\u001b[1;32m      4\u001b[0m     \u001b[0max\u001b[0m \u001b[1;33m=\u001b[0m \u001b[0mfig\u001b[0m\u001b[1;33m.\u001b[0m\u001b[0madd_subplot\u001b[0m\u001b[1;33m(\u001b[0m\u001b[1;36m111\u001b[0m\u001b[1;33m)\u001b[0m\u001b[1;33m\u001b[0m\u001b[0m\n\u001b[1;32m      5\u001b[0m     \u001b[0max\u001b[0m\u001b[1;33m.\u001b[0m\u001b[0mimshow\u001b[0m\u001b[1;33m(\u001b[0m\u001b[0mv\u001b[0m\u001b[1;33m,\u001b[0m \u001b[0minterpolation\u001b[0m\u001b[1;33m=\u001b[0m\u001b[1;34m'nearest'\u001b[0m\u001b[1;33m,\u001b[0m \u001b[0mcmap\u001b[0m\u001b[1;33m=\u001b[0m\u001b[1;34m'gray'\u001b[0m\u001b[1;33m)\u001b[0m\u001b[1;33m\u001b[0m\u001b[0m\n",
      "\u001b[0;31mNameError\u001b[0m: name 'values' is not defined"
     ]
    }
   ],
   "source": [
    "for idx, v in enumerate(values):\n",
    "    v = np.array(v[:trap]).reshape(3, l)\n",
    "    fig = plt.figure(figsize=(l*2, 6), dpi=72)\n",
    "    ax = fig.add_subplot(111)\n",
    "    ax.imshow(v, interpolation='nearest', cmap='gray')\n",
    "    plt.yticks([])\n",
    "    plt.savefig('img/value_'+str(idx)+'.jpg', dpi=72, bbox_inches='tight', pad_inches=0)\n",
    "    plt.close(fig)"
   ]
  },
  {
   "cell_type": "markdown",
   "metadata": {},
   "source": [
    "Install the command-line utility _ffmpeg_ and use it to transform the saved sequence of images into a mp4 video.\n",
    "\n",
    "(https://en.wikibooks.org/wiki/FFMPEG_An_Intermediate_Guide/image_sequence#Making_a_video_from_an_Image_Sequence)"
   ]
  },
  {
   "cell_type": "markdown",
   "metadata": {},
   "source": [
    "Play around with your model. What happens if you introduce uncertainty about the car's brakes?"
   ]
  },
  {
   "cell_type": "code",
   "execution_count": null,
   "metadata": {
    "collapsed": true
   },
   "outputs": [],
   "source": []
  }
 ],
 "metadata": {
  "anaconda-cloud": {},
  "kernelspec": {
   "display_name": "Python 3",
   "language": "python",
   "name": "python3"
  },
  "language_info": {
   "codemirror_mode": {
    "name": "ipython",
    "version": 3
   },
   "file_extension": ".py",
   "mimetype": "text/x-python",
   "name": "python",
   "nbconvert_exporter": "python",
   "pygments_lexer": "ipython3",
   "version": "3.6.0"
  }
 },
 "nbformat": 4,
 "nbformat_minor": 1
}
