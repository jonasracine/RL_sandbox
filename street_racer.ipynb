{
 "cells": [
  {
   "cell_type": "code",
   "execution_count": 111,
   "metadata": {
    "collapsed": true
   },
   "outputs": [],
   "source": [
    "import numpy as np\n",
    "import matplotlib.pyplot as plt\n",
    "import numpy.random as nprand\n",
    "from numpy import linalg as LA\n",
    "from mpl_toolkits.mplot3d import Axes3D"
   ]
  },
  {
   "cell_type": "code",
   "execution_count": 112,
   "metadata": {
    "collapsed": false
   },
   "outputs": [
    {
     "name": "stdout",
     "output_type": "stream",
     "text": [
      "The jupyternotify extension is already loaded. To reload it, use:\n",
      "  %reload_ext jupyternotify\n"
     ]
    }
   ],
   "source": [
    "load_ext jupyternotify"
   ]
  },
  {
   "cell_type": "markdown",
   "metadata": {},
   "source": [
    "# Street Racer\n",
    "\n",
    "In this notebook, you'll apply the methods of chapter 4 of Sutton's book to a simple racing problem."
   ]
  },
  {
   "cell_type": "markdown",
   "metadata": {},
   "source": [
    "The problem consists in driving a car as fast of possible over an exact distance $L$, and stopping there.\n",
    "\n",
    "This distance is divided in steps $0, ..., L$. The car can drive at three different speed: _low_, _medium_, _high_. Leaving step $j$ at _low_ speed, it will move to $j+1$. _Medium_ and _high_ bring it to $j+2$ and $j+3$, respectively.\n",
    "\n",
    "At any step, the driver can decide to _decelerate_, _maintain speed_ or _accelerate_. Decelarating will cause the car to leave its current place at one speed lower. If the car is already at _low_ speed, decelarating keeps it in the same spot. Maintaining speed does exactly what you think. Accelerating will increase the speed by one, except at _high_ speed, where it is equivalent to maintaining speed.\n",
    "\n",
    "The car starts on step $0$ at _low_ speed.\n",
    "\n",
    "Beyond the $L$ distance there is a huge, hot lake of lava. Needless to say, the car must be able to stop at $L$, or the driver will suffer quite a lot."
   ]
  },
  {
   "cell_type": "raw",
   "metadata": {},
   "source": [
    "    car ->                    ||/\\/\\/\n",
    "     |_______________ ... ____||/\\/ lava\n",
    "     |    |    |    |       | ||/\\/\\/\n",
    "     0    1    2    3       L ||/\\/\\/"
   ]
  },
  {
   "cell_type": "markdown",
   "metadata": {},
   "source": [
    "To help the driver win the race and not die, build a model of the problem and apply the policy iteration and value iteration methods to find her optimal trajectory.\n",
    "\n",
    "As this problem is an (over-)simplification of our traffic light problem, any work done here could serve as a building block for later."
   ]
  },
  {
   "cell_type": "markdown",
   "metadata": {},
   "source": [
    "# Building the model"
   ]
  },
  {
   "cell_type": "markdown",
   "metadata": {},
   "source": [
    "Start by figuring out the number of states you will need and build transition matrices for every action. For now, actions move the car from state to state in the deterministic manner described above."
   ]
  },
  {
   "cell_type": "code",
   "execution_count": 113,
   "metadata": {
    "collapsed": true
   },
   "outputs": [],
   "source": [
    "l = 50\n",
    "n = 3*l+1\n",
    "trap=n-1"
   ]
  },
  {
   "cell_type": "code",
   "execution_count": 114,
   "metadata": {
    "collapsed": false,
    "scrolled": false
   },
   "outputs": [],
   "source": [
    "T_decelerate = np.zeros(shape=(n, n))\n",
    "T_maintain = np.zeros(shape=(n,n))\n",
    "T_accel = np.zeros(shape=(n,n))"
   ]
  },
  {
   "cell_type": "markdown",
   "metadata": {},
   "source": [
    "we have three states for each position then we have a lava state (absorbing state)"
   ]
  },
  {
   "cell_type": "markdown",
   "metadata": {},
   "source": [
    "the matrix repeats itself for each action :  (here the decelerate matrix)\n",
    "\n",
    "\\begin{pmatrix}1&0&0 & 0&0&0 & 0&0&0 &  0&0&0 & \\ldots \n",
    "\\\\ 0&0&0 & 1&0&0 & 0&0&0 &  0&0&0 & \\ldots \n",
    "\\\\ 0&0&0 & 0&0&0 & 0&1&0 &  0&0&0 & \\ldots\n",
    "\\\\ 0&0&0 & 1&0&0 & 0&0&0 &  0&0&0 & \\ldots\n",
    "\\\\ 0&0&0 & 0&0&0 & 1&0&0 &  0&0&0 & \\ldots\n",
    "\\\\ 0&0&0 & 0&0&0 & 0&0&0 &  0&1&0 & \\ldots\n",
    "\\end{pmatrix}"
   ]
  },
  {
   "cell_type": "code",
   "execution_count": 115,
   "metadata": {
    "collapsed": false
   },
   "outputs": [],
   "source": [
    "for i in range(n-1):\n",
    "    if (i%3 == 0 ):\n",
    "        T_decelerate[i][i] = 1        #if at low speed and decelerating : stay on the same spot at low speed\n",
    "    if (i%3 == 1):                \n",
    "        if (i+2 > n-1):\n",
    "            T_decelerate[i][n-1] = 1  #if action takes us beyond l : we fall into the lava-state  \n",
    "        else :     \n",
    "            T_decelerate[i][i+2] = 1  #other wise we just end up in the next position with low speed since we are in medium \n",
    "    if (i%3 == 2):\n",
    "        if (i+5 > n-1):\n",
    "            T_decelerate[i][n-1] = 1  #if action takes us beyond l : we fall into the lava-state \n",
    "        else : \n",
    "            T_decelerate[i][i+5] = 1  #otherwise we just end up two states after with medium speed \n",
    "                       \n",
    "\n",
    "for i in range(n-1):\n",
    "    if (i%3 == 0):\n",
    "        if (i+7 > n-1):\n",
    "            T_accel[i][n-1] = 1\n",
    "        else :\n",
    "            T_accel[i][i+7] = 1\n",
    "        if (i+3 > n-1 ):\n",
    "            T_maintain[i][n-1] = 1\n",
    "        else:\n",
    "            T_maintain[i][i+3] = 1\n",
    "    if (i%3 == 1):\n",
    "        if (i+10 > n-1):\n",
    "            T_accel[i][n-1] = 1\n",
    "        else : \n",
    "            T_accel[i][i+10] = 1\n",
    "        if (i+6 > n-1):\n",
    "            T_maintain[i][n-1] = 1\n",
    "        else :\n",
    "            T_maintain[i][i+6] = 1\n",
    "    if (i%3 == 2):\n",
    "        if(i+9 > n-1):\n",
    "            T_accel[i][n-1] = 1\n",
    "            T_maintain[i][n-1] = 1\n",
    "        else :\n",
    "            T_accel[i][i+9] = 1\n",
    "            T_maintain[i][i+9] = 1\n",
    "\n",
    "            \n",
    "#once dead you stay dead !            \n",
    "T_accel[n-1][n-1] = 1\n",
    "T_maintain[n-1][n-1] = 1\n",
    "T_decelerate[n-1][n-1] = 1 \n",
    "\n",
    "\n",
    "#define L_low as an absorbing state\n",
    "T_accel[-4] = np.zeros(3*l+1)\n",
    "T_decelerate[-4] = np.zeros(3*l+1)\n",
    "T_maintain[-4] = np.zeros(3*l+1)\n",
    "\n",
    "T_accel[-4][-4] = 1\n",
    "T_maintain[-4][-4] = 1\n",
    "T_decelerate[-4][-4] = 1\n",
    "\n",
    "\n",
    "#definition of the actual matrix \n",
    "\n",
    "T = np.zeros(shape = (3,n,n))\n",
    "T[0] = T_decelerate\n",
    "T[1] = T_maintain\n",
    "T[2] = T_accel"
   ]
  },
  {
   "cell_type": "markdown",
   "metadata": {},
   "source": [
    "we check for any encoding issues in the matrices : "
   ]
  },
  {
   "cell_type": "code",
   "execution_count": 116,
   "metadata": {
    "collapsed": false
   },
   "outputs": [],
   "source": [
    "def error_matrix(A):\n",
    "    result = np.dot(A,np.ones(len(A)))\n",
    "    print(\"erreur de type pas d'actions associées \",np.where(result == 0)[0])\n",
    "    print(\"erreur de type deux actions ou plus associées \",np.where(result >= 2)[0],\":\")\n",
    "    for i in np.where(result >= 2)[0]:\n",
    "        print(\"sum of the line : \",result[i])\n",
    "        print(A[i])"
   ]
  },
  {
   "cell_type": "code",
   "execution_count": 117,
   "metadata": {
    "collapsed": false
   },
   "outputs": [
    {
     "name": "stdout",
     "output_type": "stream",
     "text": [
      "deceleration matrix\n",
      "erreur de type pas d'actions associées  []\n",
      "erreur de type deux actions ou plus associées  [] :\n",
      "acceleration matrix\n",
      "erreur de type pas d'actions associées  []\n",
      "erreur de type deux actions ou plus associées  [] :\n",
      "maintain matrix\n",
      "erreur de type pas d'actions associées  []\n",
      "erreur de type deux actions ou plus associées  [] :\n"
     ]
    }
   ],
   "source": [
    "print(\"deceleration matrix\")\n",
    "error_matrix(T_decelerate)\n",
    "print(\"acceleration matrix\")\n",
    "error_matrix(T_accel)\n",
    "print(\"maintain matrix\")\n",
    "error_matrix(T_maintain)"
   ]
  },
  {
   "cell_type": "markdown",
   "metadata": {},
   "source": [
    "And define the reward function"
   ]
  },
  {
   "cell_type": "code",
   "execution_count": 118,
   "metadata": {
    "collapsed": false
   },
   "outputs": [],
   "source": [
    "R = -np.ones(n)\n",
    "lava = -25\n",
    "R[-1] =  lava  #lava state : you die\n",
    "R[-4] = -lava     #L in low speed ! win ! \n"
   ]
  },
  {
   "cell_type": "markdown",
   "metadata": {},
   "source": [
    "defining a policy : at the beginning we choose a random policy. A policy is here encoded as a sequence of letters : 0,1,2 for decelerate, maintain, accelerate. The sequence is of length n"
   ]
  },
  {
   "cell_type": "code",
   "execution_count": 119,
   "metadata": {
    "collapsed": false
   },
   "outputs": [],
   "source": [
    "policy_initial = np.zeros(n,dtype=int)"
   ]
  },
  {
   "cell_type": "markdown",
   "metadata": {},
   "source": [
    "Here we define the find_new_state function, which takes as argument a policy p and an index i. The index i represents the state we are in actually and the function return in which state we will be if we follow the policy "
   ]
  },
  {
   "cell_type": "code",
   "execution_count": 120,
   "metadata": {
    "collapsed": false
   },
   "outputs": [],
   "source": [
    "def find_new_state(p,i,T):\n",
    "\n",
    "    array = np.where(T[int(p[i])][i] > 0)[0]\n",
    "    if len(array) == 1:\n",
    "        return int(array)\n",
    "    else :\n",
    "        return int(np.randchoice(array))   ##to be modified with the probability : maybe can already be done ?\n",
    "    \n",
    "   "
   ]
  },
  {
   "cell_type": "code",
   "execution_count": 121,
   "metadata": {
    "collapsed": false
   },
   "outputs": [
    {
     "data": {
      "text/plain": [
       "0"
      ]
     },
     "execution_count": 121,
     "metadata": {},
     "output_type": "execute_result"
    }
   ],
   "source": [
    "result = find_new_state(policy_initial,0,T)\n",
    "result"
   ]
  },
  {
   "cell_type": "markdown",
   "metadata": {},
   "source": [
    "# Policy iteration"
   ]
  },
  {
   "cell_type": "markdown",
   "metadata": {},
   "source": [
    "Apply the policy iteration procedure to figure out the best policy to follow."
   ]
  },
  {
   "cell_type": "code",
   "execution_count": 122,
   "metadata": {
    "collapsed": true
   },
   "outputs": [],
   "source": [
    "#definition of  stopping criterion \n",
    "epsilon = 0.01\n",
    "#definition of discount factor\n",
    "gamma = 0.9\n",
    "#definitions of the states"
   ]
  },
  {
   "cell_type": "markdown",
   "metadata": {},
   "source": [
    "this policy evaluation is only working for non-stochastic policies and is an in-place one "
   ]
  },
  {
   "cell_type": "code",
   "execution_count": 123,
   "metadata": {
    "collapsed": false
   },
   "outputs": [],
   "source": [
    "def policy_eval(p, T, R, threshold, gamma):\n",
    "    delta = 10\n",
    "    V=np.zeros(n)\n",
    "    iteration_number = 0\n",
    "    \n",
    "    while(delta >= threshold and iteration_number < 1000):  #iteration number in order to not kill my computer\n",
    "        delta = 0\n",
    "        iteration_number+=1\n",
    "        for i in range(len(T[0])):  #iteration on all the states of departure\n",
    "            old_value = V[i]\n",
    "            new_value = 0\n",
    "            a=int(p[i])\n",
    "            for s in range(len(T[0])): #iteration on all the states of arrival\n",
    "                new_value += T[a][i][s]*(R[s]+gamma*V[s])  #computation of v(s)\n",
    "            V[i] = new_value\n",
    "            delta = max(delta,abs(old_value-V[i]))\n",
    "        \n",
    "        \n",
    "    return V"
   ]
  },
  {
   "cell_type": "code",
   "execution_count": 124,
   "metadata": {
    "collapsed": false
   },
   "outputs": [
    {
     "data": {
      "text/plain": [
       "array([  -9.9966701 ,   -9.9966701 ,   -9.9966701 ,   -9.9966701 ,\n",
       "         -9.9966701 ,   -9.9966701 ,   -9.9966701 ,   -9.9966701 ,\n",
       "         -9.9966701 ,   -9.9966701 ,   -9.9966701 ,   -9.9966701 ,\n",
       "         -9.9966701 ,   -9.9966701 ,   -9.9966701 ,   -9.9966701 ,\n",
       "         -9.9966701 ,   -9.9966701 ,   -9.9966701 ,   -9.9966701 ,\n",
       "         -9.9966701 ,   -9.9966701 ,   -9.9966701 ,   -9.9966701 ,\n",
       "         -9.9966701 ,   -9.9966701 ,   -9.9966701 ,   -9.9966701 ,\n",
       "         -9.9966701 ,   -9.9966701 ,   -9.9966701 ,   -9.9966701 ,\n",
       "         -9.9966701 ,   -9.9966701 ,   -9.9966701 ,   -9.9966701 ,\n",
       "         -9.9966701 ,   -9.9966701 ,   -9.9966701 ,   -9.9966701 ,\n",
       "         -9.9966701 ,   -9.9966701 ,   -9.9966701 ,   -9.9966701 ,\n",
       "         -9.9966701 ,   -9.9966701 ,   -9.9966701 ,   -9.9966701 ,\n",
       "         -9.9966701 ,   -9.9966701 ,   -9.9966701 ,   -9.9966701 ,\n",
       "         -9.9966701 ,   -9.9966701 ,   -9.9966701 ,   -9.9966701 ,\n",
       "         -9.9966701 ,   -9.9966701 ,   -9.9966701 ,   -9.9966701 ,\n",
       "         -9.9966701 ,   -9.9966701 ,   -9.9966701 ,   -9.9966701 ,\n",
       "         -9.9966701 ,   -9.9966701 ,   -9.9966701 ,   -9.9966701 ,\n",
       "         -9.9966701 ,   -9.9966701 ,   -9.9966701 ,   -9.9966701 ,\n",
       "         -9.9966701 ,   -9.9966701 ,   -9.9966701 ,   -9.9966701 ,\n",
       "         -9.9966701 ,   -9.9966701 ,   -9.9966701 ,   -9.9966701 ,\n",
       "         -9.9966701 ,   -9.9966701 ,   -9.9966701 ,   -9.9966701 ,\n",
       "         -9.9966701 ,   -9.9966701 ,   -9.9966701 ,   -9.9966701 ,\n",
       "         -9.9966701 ,   -9.9966701 ,   -9.9966701 ,   -9.9966701 ,\n",
       "         -9.9966701 ,   -9.9966701 ,   -9.9966701 ,   -9.9966701 ,\n",
       "         -9.9966701 ,   -9.9966701 ,   -9.9966701 ,   -9.9966701 ,\n",
       "         -9.9966701 ,   -9.9966701 ,   -9.9966701 ,   -9.9966701 ,\n",
       "         -9.9966701 ,   -9.9966701 ,   -9.9966701 ,   -9.9966701 ,\n",
       "         -9.9966701 ,   -9.9966701 ,   -9.9966701 ,   -9.9966701 ,\n",
       "         -9.9966701 ,   -9.9966701 ,   -9.9966701 ,   -9.9966701 ,\n",
       "         -9.9966701 ,   -9.9966701 ,   -9.9966701 ,   -9.9966701 ,\n",
       "         -9.9966701 ,   -9.9966701 ,   -9.9966701 ,   -9.9966701 ,\n",
       "         -9.9966701 ,   -9.9966701 ,   -9.9966701 ,   -9.9966701 ,\n",
       "         -9.9966701 ,   -9.9966701 ,   -9.9966701 ,   -9.9966701 ,\n",
       "         -9.9966701 ,   -9.9966701 ,   -9.9966701 ,   -9.9966701 ,\n",
       "         -9.9966701 ,   -9.9966701 ,   -9.9966701 ,   -9.9966701 ,\n",
       "        223.91675259,   -9.9966701 ,   -9.9966701 , -225.91675259,\n",
       "         -9.9966701 ,  249.91675259, -249.91675259,  249.91675259,\n",
       "       -249.91675259, -249.91675259, -249.91675259])"
      ]
     },
     "execution_count": 124,
     "metadata": {},
     "output_type": "execute_result"
    }
   ],
   "source": [
    "policy_eval(policy_initial,T,R,0.01,gamma)"
   ]
  },
  {
   "cell_type": "code",
   "execution_count": 125,
   "metadata": {
    "collapsed": true
   },
   "outputs": [],
   "source": [
    "A=[0,1,2]   #definition of the differents actions possible"
   ]
  },
  {
   "cell_type": "code",
   "execution_count": 126,
   "metadata": {
    "collapsed": false
   },
   "outputs": [],
   "source": [
    "def policy_improv(p,V,T,R,A,gamma,epsilon,stability):\n",
    "    \n",
    "    new_p=np.zeros(shape=n,dtype=int)\n",
    "    stability = True\n",
    "    \n",
    "    for i in range(len(V)): #iteration on all the states\n",
    "        \n",
    "        old_action=p[i]\n",
    "        vals_possible=[]\n",
    "        \n",
    "        for a in A : #iterations on all the possibles action\n",
    "            new_value = 0\n",
    "            \n",
    "            for s in range(len(V)):  #iterations on all the possible states of arrival \n",
    "                new_value += T[a][i][s]*(R[s]+gamma*V[s])\n",
    "            vals_possible.append(new_value)\n",
    "            \n",
    "        new_p[i]=np.argmax(vals_possible)\n",
    "        if old_action != new_p[i]:\n",
    "            stability = False\n",
    "    \n",
    "    return new_p,stability  \n",
    "\n",
    "# maybe not exactly our algorithm : we always have the same set of actions for each states in our case but what about \n",
    "# the more general case ? "
   ]
  },
  {
   "cell_type": "code",
   "execution_count": 127,
   "metadata": {
    "collapsed": false
   },
   "outputs": [],
   "source": [
    "def state(i):\n",
    "    \n",
    "# return the position and the state we are in\n",
    "    \n",
    "    if i%3 == 0 :\n",
    "        return ((i-i%3)/3,\"low\")\n",
    "    elif i%3 == 1 :\n",
    "        return ((i-i%3)/3,\"medium\")\n",
    "    elif i%3 == 2 : \n",
    "        return ((i-i%3)/3,\"high\")"
   ]
  },
  {
   "cell_type": "code",
   "execution_count": 128,
   "metadata": {
    "collapsed": false
   },
   "outputs": [],
   "source": [
    "def tracker(p,R,T):\n",
    "    \n",
    "# keeps track of the itinerary : state + actual velocity we go throught\n",
    "#                    actions : the actions that were taken \n",
    "#                    scores : the reward we get along the way \n",
    "\n",
    "\n",
    "    itinerary = []\n",
    "    action = []\n",
    "    scores = []\n",
    "    itinerary.append((0,\"low\"))\n",
    "    action.append(p[0])\n",
    "    scores=R[0]\n",
    "    s = 0\n",
    "    \n",
    "    it = 0\n",
    "    \n",
    "    while(it <l-1):\n",
    "        action.append(p[s])\n",
    "        s=find_new_state(p,s,T)\n",
    "        #print(s)\n",
    "        itinerary.append(state(s))\n",
    "        scores += R[s]\n",
    "        it += 1\n",
    "        if (state(s)[0] >= l-1):\n",
    "            break\n",
    "    \n",
    "    return action, itinerary, scores\n",
    "    "
   ]
  },
  {
   "cell_type": "code",
   "execution_count": 129,
   "metadata": {
    "collapsed": false
   },
   "outputs": [],
   "source": [
    "def print_trajectory(traj):\n",
    "    \n",
    "    #traj is one trajectory : [(0,\"low\"),(2,\"medium\"),...]\n",
    "    #the function plots it : on the x axis is the position and on the y axis is the speed (3 levels)\n",
    "    new_y=[]\n",
    "    new_x=[]\n",
    "    for el in traj : \n",
    "        new_x.append(el[0])\n",
    "        if el[1]=='low':\n",
    "            new_y.append(0)\n",
    "        elif el[1]=='medium':\n",
    "            new_y.append(1)\n",
    "        elif el[1]=='high':\n",
    "            new_y.append(2)\n",
    "\n",
    "    plt.plot(new_x,new_y)\n",
    "    plt.show()"
   ]
  },
  {
   "cell_type": "markdown",
   "metadata": {},
   "source": [
    "\n",
    "Now combine the two functions to iterate over policies!"
   ]
  },
  {
   "cell_type": "code",
   "execution_count": 130,
   "metadata": {
    "collapsed": false
   },
   "outputs": [],
   "source": [
    "policy_test = policy_initial\n",
    "#policy_test = np.ones(n,dtype=int)\n",
    "#policy_test = p\n",
    "#policy_test[3]=2"
   ]
  },
  {
   "cell_type": "code",
   "execution_count": 131,
   "metadata": {
    "collapsed": false
   },
   "outputs": [
    {
     "data": {
      "application/javascript": [
       "$(document).ready(\n",
       "    function() {\n",
       "        function appendUniqueDiv(){\n",
       "            // append a div with our uuid so we can check that it's already\n",
       "            // been sent and avoid duplicates on page reload\n",
       "            var notifiedDiv = document.createElement(\"div\")\n",
       "            notifiedDiv.id = \"df27594b-da67-4198-862b-0beaa5008f01\"\n",
       "            element.append(notifiedDiv)\n",
       "        }\n",
       "\n",
       "        // only send notifications if the pageload is complete; this will\n",
       "        // help stop extra notifications when a saved notebook is loaded,\n",
       "        // which during testing gives us state \"interactive\", not \"complete\"\n",
       "        if (document.readyState === 'complete') {\n",
       "            // check for the div that signifies that the notification\n",
       "            // was already sent\n",
       "            if (document.getElementById(\"df27594b-da67-4198-862b-0beaa5008f01\") === null) {\n",
       "                var notificationPayload = {\"requireInteraction\": false, \"icon\": \"/static/base/images/favicon.ico\", \"body\": \"Cell execution has finished!\"};\n",
       "                if (Notification.permission !== 'denied') {\n",
       "                    if (Notification.permission !== 'granted') { \n",
       "                        Notification.requestPermission(function (permission) {\n",
       "                            if(!('permission' in Notification)) {\n",
       "                                Notification.permission = permission\n",
       "                            }\n",
       "                        })\n",
       "                    }\n",
       "                    if (Notification.permission === 'granted') {\n",
       "                    var notification = new Notification(\"Jupyter Notebook\", notificationPayload)\n",
       "                    appendUniqueDiv()\n",
       "                    notification.onclick = function () {\n",
       "                        window.focus();\n",
       "                        this.close();\n",
       "                        };\n",
       "                    } \n",
       "                }     \n",
       "            }\n",
       "        }\n",
       "    }\n",
       ")\n"
      ],
      "text/plain": [
       "<IPython.core.display.Javascript object>"
      ]
     },
     "metadata": {},
     "output_type": "display_data"
    }
   ],
   "source": [
    "# policy iteration\n",
    "V = np.zeros(n)\n",
    "p = np.zeros(n)\n",
    "policy_stable = False\n",
    "gamma = 0.9\n",
    "epsilon = 0.01\n",
    "iterations = 0\n",
    "scores = []\n",
    "trajectories=[]\n",
    "values=[]\n",
    "\n",
    "while not policy_stable and iterations < 100 :\n",
    "    #print(\"potatoes\")\n",
    "    values.append(V)\n",
    "    V = policy_eval(p,T,R,epsilon,gamma)\n",
    "    p, policy_stable = policy_improv(p,V,T,R,A,gamma,epsilon,policy_stable)\n",
    "    iterations +=1\n",
    "    #print(iterations)\n",
    "    scores.append(tracker(p,R,T)[2])\n",
    "    trajectories.append(tracker(p,R,T)[1])\n",
    "    \n",
    "%notify"
   ]
  },
  {
   "cell_type": "code",
   "execution_count": 132,
   "metadata": {
    "collapsed": false,
    "scrolled": true
   },
   "outputs": [
    {
     "data": {
      "image/png": "[encoded data removed]",
      "text/plain": [
       "<matplotlib.figure.Figure at 0x1f0a0caa048>"
      ]
     },
     "metadata": {},
     "output_type": "display_data"
    },
    {
     "name": "stdout",
     "output_type": "stream",
     "text": [
      "trajectory number :  0\n"
     ]
    },
    {
     "data": {
      "image/png": "[encoded data removed]",
      "text/plain": [
       "<matplotlib.figure.Figure at 0x1f0a06b8e10>"
      ]
     },
     "metadata": {},
     "output_type": "display_data"
    },
    {
     "name": "stdout",
     "output_type": "stream",
     "text": [
      "trajectory number :  1\n"
     ]
    },
    {
     "data": {
      "image/png": "[encoded data removed]",
      "text/plain": [
       "<matplotlib.figure.Figure at 0x1f09ff702b0>"
      ]
     },
     "metadata": {},
     "output_type": "display_data"
    },
    {
     "name": "stdout",
     "output_type": "stream",
     "text": [
      "trajectory number :  2\n"
     ]
    },
    {
     "data": {
      "image/png": "[encoded data removed]",
      "text/plain": [
       "<matplotlib.figure.Figure at 0x1f09f6f5ef0>"
      ]
     },
     "metadata": {},
     "output_type": "display_data"
    },
    {
     "name": "stdout",
     "output_type": "stream",
     "text": [
      "trajectory number :  3\n"
     ]
    },
    {
     "data": {
      "image/png": "[encoded data removed]",
      "text/plain": [
       "<matplotlib.figure.Figure at 0x1f09fef7128>"
      ]
     },
     "metadata": {},
     "output_type": "display_data"
    },
    {
     "name": "stdout",
     "output_type": "stream",
     "text": [
      "trajectory number :  4\n"
     ]
    },
    {
     "data": {
      "image/png": "[encoded data removed]",
      "text/plain": [
       "<matplotlib.figure.Figure at 0x1f0a0196748>"
      ]
     },
     "metadata": {},
     "output_type": "display_data"
    },
    {
     "name": "stdout",
     "output_type": "stream",
     "text": [
      "trajectory number :  5\n"
     ]
    },
    {
     "data": {
      "image/png": "[encoded data removed]",
      "text/plain": [
       "<matplotlib.figure.Figure at 0x1f09fe8b128>"
      ]
     },
     "metadata": {},
     "output_type": "display_data"
    },
    {
     "name": "stdout",
     "output_type": "stream",
     "text": [
      "trajectory number :  6\n"
     ]
    },
    {
     "data": {
      "image/png": "[encoded data removed]",
      "text/plain": [
       "<matplotlib.figure.Figure at 0x1f09fe92748>"
      ]
     },
     "metadata": {},
     "output_type": "display_data"
    },
    {
     "name": "stdout",
     "output_type": "stream",
     "text": [
      "trajectory number :  7\n"
     ]
    },
    {
     "data": {
      "image/png": "[encoded data removed]",
      "text/plain": [
       "<matplotlib.figure.Figure at 0x1f0a0cb7dd8>"
      ]
     },
     "metadata": {},
     "output_type": "display_data"
    },
    {
     "name": "stdout",
     "output_type": "stream",
     "text": [
      "trajectory number :  8\n"
     ]
    },
    {
     "data": {
      "image/png": "[encoded data removed]",
      "text/plain": [
       "<matplotlib.figure.Figure at 0x1f0a00cdcc0>"
      ]
     },
     "metadata": {},
     "output_type": "display_data"
    },
    {
     "name": "stdout",
     "output_type": "stream",
     "text": [
      "trajectory number :  9\n"
     ]
    },
    {
     "data": {
      "image/png": "[encoded data removed]",
      "text/plain": [
       "<matplotlib.figure.Figure at 0x1f0a064e128>"
      ]
     },
     "metadata": {},
     "output_type": "display_data"
    },
    {
     "name": "stdout",
     "output_type": "stream",
     "text": [
      "trajectory number :  10\n"
     ]
    },
    {
     "data": {
      "image/png": "[encoded data removed]",
      "text/plain": [
       "<matplotlib.figure.Figure at 0x1f0a0db7e80>"
      ]
     },
     "metadata": {},
     "output_type": "display_data"
    },
    {
     "name": "stdout",
     "output_type": "stream",
     "text": [
      "trajectory number :  11\n"
     ]
    },
    {
     "data": {
      "image/png": "[encoded data removed]",
      "text/plain": [
       "<matplotlib.figure.Figure at 0x1f09fe4b550>"
      ]
     },
     "metadata": {},
     "output_type": "display_data"
    },
    {
     "name": "stdout",
     "output_type": "stream",
     "text": [
      "trajectory number :  12\n"
     ]
    },
    {
     "data": {
      "image/png": "[encoded data removed]",
      "text/plain": [
       "<matplotlib.figure.Figure at 0x1f0a067f630>"
      ]
     },
     "metadata": {},
     "output_type": "display_data"
    },
    {
     "name": "stdout",
     "output_type": "stream",
     "text": [
      "trajectory number :  13\n"
     ]
    },
    {
     "data": {
      "image/png": "[encoded data removed]",
      "text/plain": [
       "<matplotlib.figure.Figure at 0x1f09d7934e0>"
      ]
     },
     "metadata": {},
     "output_type": "display_data"
    },
    {
     "name": "stdout",
     "output_type": "stream",
     "text": [
      "trajectory number :  14\n"
     ]
    },
    {
     "data": {
      "image/png": "[encoded data removed]",
      "text/plain": [
       "<matplotlib.figure.Figure at 0x1f0a058a048>"
      ]
     },
     "metadata": {},
     "output_type": "display_data"
    },
    {
     "name": "stdout",
     "output_type": "stream",
     "text": [
      "trajectory number :  15\n"
     ]
    }
   ],
   "source": [
    "for index,trajectory in enumerate(trajectories) :\n",
    "    print_trajectory(trajectory)\n",
    "    print(\"trajectory number : \", index )"
   ]
  },
  {
   "cell_type": "code",
   "execution_count": 133,
   "metadata": {
    "collapsed": false
   },
   "outputs": [
    {
     "data": {
      "image/png": "[encoded data removed]",
      "text/plain": [
       "<matplotlib.figure.Figure at 0x1f0a0c04ac8>"
      ]
     },
     "metadata": {},
     "output_type": "display_data"
    }
   ],
   "source": [
    "plt.plot(scores)\n",
    "plt.show()"
   ]
  },
  {
   "cell_type": "code",
   "execution_count": 134,
   "metadata": {
    "collapsed": false,
    "scrolled": true
   },
   "outputs": [
    {
     "data": {
      "image/png": "[encoded data removed]",
      "text/plain": [
       "<matplotlib.figure.Figure at 0x1f0a0535fd0>"
      ]
     },
     "metadata": {},
     "output_type": "display_data"
    },
    {
     "name": "stdout",
     "output_type": "stream",
     "text": [
      "[[  33.27742501   33.27742501   33.27742501]\n",
      " [  33.27742501   38.0952775    38.0952775 ]\n",
      " [  38.0952775    38.0952775    38.0952775 ]\n",
      " [  38.0952775    38.0952775    38.0952775 ]\n",
      " [  38.0952775    43.44844694   43.44844694]\n",
      " [  43.44844694   43.44844694   43.44844694]\n",
      " [  43.44844694   43.44844694   43.44844694]\n",
      " [  43.44844694   49.39641297   49.39641297]\n",
      " [  49.39641297   49.39641297   49.39641297]\n",
      " [  49.39641297   49.39641297   49.39641297]\n",
      " [  49.39641297   56.00526413   56.00526413]\n",
      " [  56.00526413   56.00526413   56.00526413]\n",
      " [  56.00526413   56.00526413   56.00526413]\n",
      " [  56.00526413   63.34843208   63.34843208]\n",
      " [  63.34843208   63.34843208   63.34843208]\n",
      " [  63.34843208   63.34843208   63.34843208]\n",
      " [  63.34843208   71.50750757   71.50750757]\n",
      " [  71.50750757   71.50750757   71.50750757]\n",
      " [  71.50750757   71.50750757   71.50750757]\n",
      " [  71.50750757   80.57314702   80.57314702]\n",
      " [  80.57314702   80.57314702   80.57314702]\n",
      " [  80.57314702   80.57314702   80.57314702]\n",
      " [  80.57314702   90.64607973   90.64607973]\n",
      " [  90.64607973   90.64607973   90.64607973]\n",
      " [  90.64607973   90.64607973   90.64607973]\n",
      " [  90.64607973  101.83822719  101.83822719]\n",
      " [ 101.83822719  101.83822719  101.83822719]\n",
      " [ 101.83822719  101.83822719  101.83822719]\n",
      " [ 101.83822719  114.27394659  114.27394659]\n",
      " [ 114.27394659  114.27394659  114.27394659]\n",
      " [ 114.27394659  114.27394659  114.27394659]\n",
      " [ 114.27394659  128.09141259  128.09141259]\n",
      " [ 128.09141259  128.09141259  128.09141259]\n",
      " [ 128.09141259  128.09141259  128.09141259]\n",
      " [ 128.09141259  143.44415259  143.44415259]\n",
      " [ 143.44415259  143.44415259  143.44415259]\n",
      " [ 143.44415259  143.44415259  143.44415259]\n",
      " [ 143.44415259  160.50275259  160.50275259]\n",
      " [ 160.50275259  160.50275259  160.50275259]\n",
      " [ 160.50275259  160.50275259  160.50275259]\n",
      " [ 160.50275259  179.45675259  179.45675259]\n",
      " [ 179.45675259  179.45675259  179.45675259]\n",
      " [ 179.45675259  179.45675259  179.45675259]\n",
      " [ 179.45675259  200.51675259  200.51675259]\n",
      " [ 200.51675259  200.51675259  200.51675259]\n",
      " [ 200.51675259  200.51675259  200.51675259]\n",
      " [ 223.91675259  223.91675259  223.91675259]\n",
      " [ 223.91675259  223.91675259 -225.91675259]\n",
      " [ 249.91675259  249.91675259 -249.91675259]\n",
      " [ 249.91675259 -249.91675259 -249.91675259]]\n"
     ]
    }
   ],
   "source": [
    "Z = np.array(policy_eval(p,T,R,0.01,gamma)[:trap]).reshape(l,3)\n",
    "plt.imshow(np.transpose(Z),cmap='gray')\n",
    "plt.show()\n",
    "print(Z)"
   ]
  },
  {
   "cell_type": "markdown",
   "metadata": {},
   "source": [
    "We should try this visualisation for the value of the state but the problem is how to interpret the color ? plus c'est clair plus la valeur de Z est élevée ?? "
   ]
  },
  {
   "cell_type": "markdown",
   "metadata": {},
   "source": [
    "To figure out if everything is going well, make sure that at each iteration you keep track of the value vector, as well as the trajectory of the car according to the current policy. The latter allows you to compute the current policy's total reward and plot the evolution."
   ]
  },
  {
   "cell_type": "markdown",
   "metadata": {},
   "source": [
    "Then use the stored values to make a video similar to _street_racer.mp4_ on the repo. The following procedure can be used to save figures."
   ]
  },
  {
   "cell_type": "code",
   "execution_count": 135,
   "metadata": {
    "collapsed": false,
    "scrolled": true
   },
   "outputs": [
    {
     "data": {
      "image/png": "[encoded data removed]",
      "text/plain": [
       "<matplotlib.figure.Figure at 0x1f0a0d232b0>"
      ]
     },
     "metadata": {},
     "output_type": "display_data"
    },
    {
     "data": {
      "image/png": "[encoded data removed]",
      "text/plain": [
       "<matplotlib.figure.Figure at 0x1f09fb177b8>"
      ]
     },
     "metadata": {},
     "output_type": "display_data"
    },
    {
     "data": {
      "image/png": "[encoded data removed]",
      "text/plain": [
       "<matplotlib.figure.Figure at 0x1f0a064de80>"
      ]
     },
     "metadata": {},
     "output_type": "display_data"
    },
    {
     "data": {
      "image/png": "[encoded data removed]",
      "text/plain": [
       "<matplotlib.figure.Figure at 0x1f09fff7be0>"
      ]
     },
     "metadata": {},
     "output_type": "display_data"
    },
    {
     "data": {
      "image/png": "[encoded data removed]",
      "text/plain": [
       "<matplotlib.figure.Figure at 0x1f0a058d710>"
      ]
     },
     "metadata": {},
     "output_type": "display_data"
    },
    {
     "data": {
      "image/png": "[encoded data removed]",
      "text/plain": [
       "<matplotlib.figure.Figure at 0x1f09fb94828>"
      ]
     },
     "metadata": {},
     "output_type": "display_data"
    },
    {
     "data": {
      "image/png": "[encoded data removed]",
      "text/plain": [
       "<matplotlib.figure.Figure at 0x1f0a05da048>"
      ]
     },
     "metadata": {},
     "output_type": "display_data"
    },
    {
     "data": {
      "image/png": "[encoded data removed]",
      "text/plain": [
       "<matplotlib.figure.Figure at 0x1f0a003f320>"
      ]
     },
     "metadata": {},
     "output_type": "display_data"
    },
    {
     "data": {
      "image/png": "[encoded data removed]",
      "text/plain": [
       "<matplotlib.figure.Figure at 0x1f09fe4b860>"
      ]
     },
     "metadata": {},
     "output_type": "display_data"
    },
    {
     "data": {
      "image/png": "[encoded data removed]",
      "text/plain": [
       "<matplotlib.figure.Figure at 0x1f09fc4b828>"
      ]
     },
     "metadata": {},
     "output_type": "display_data"
    },
    {
     "data": {
      "image/png": "[encoded data removed]",
      "text/plain": [
       "<matplotlib.figure.Figure at 0x1f09fb17550>"
      ]
     },
     "metadata": {},
     "output_type": "display_data"
    },
    {
     "data": {
      "image/png": "[encoded data removed]",
      "text/plain": [
       "<matplotlib.figure.Figure at 0x1f09fe40c18>"
      ]
     },
     "metadata": {},
     "output_type": "display_data"
    },
    {
     "data": {
      "image/png": "[encoded data removed]",
      "text/plain": [
       "<matplotlib.figure.Figure at 0x1f0a22e6710>"
      ]
     },
     "metadata": {},
     "output_type": "display_data"
    },
    {
     "data": {
      "image/png": "[encoded data removed]",
      "text/plain": [
       "<matplotlib.figure.Figure at 0x1f09ff30780>"
      ]
     },
     "metadata": {},
     "output_type": "display_data"
    },
    {
     "data": {
      "image/png": "[encoded data removed]",
      "text/plain": [
       "<matplotlib.figure.Figure at 0x1f09ffacc18>"
      ]
     },
     "metadata": {},
     "output_type": "display_data"
    },
    {
     "data": {
      "image/png": "[encoded data removed]",
      "text/plain": [
       "<matplotlib.figure.Figure at 0x1f09fbf8b00>"
      ]
     },
     "metadata": {},
     "output_type": "display_data"
    }
   ],
   "source": [
    "for idx, v in enumerate(values):\n",
    "    v = np.array(v[:trap]).reshape(l, 3)\n",
    "    plt.imshow(np.transpose(v),cmap='gray')\n",
    "    plt.show()\n",
    "    fig = plt.figure(figsize=(l*2, 6), dpi=72)\n",
    "    ax = fig.add_subplot(111)\n",
    "    ax.imshow(np.transpose(v), cmap='gray')\n",
    "    plt.yticks([])\n",
    "    plt.savefig('img/value_'+str(idx)+'.jpg', dpi=72, bbox_inches='tight', pad_inches=0)\n",
    "    plt.close(fig)"
   ]
  },
  {
   "cell_type": "markdown",
   "metadata": {},
   "source": [
    "Install the command-line utility _ffmpeg_ and use it to transform the saved sequence of images into a mp4 video.\n",
    "\n",
    "(https://en.wikibooks.org/wiki/FFMPEG_An_Intermediate_Guide/image_sequence#Making_a_video_from_an_Image_Sequence)"
   ]
  },
  {
   "cell_type": "markdown",
   "metadata": {},
   "source": [
    "Play around with your model. What happens if you introduce uncertainty about the car's brakes?"
   ]
  }
 ],
 "metadata": {
  "anaconda-cloud": {},
  "kernelspec": {
   "display_name": "Python 3",
   "language": "python",
   "name": "python3"
  },
  "language_info": {
   "codemirror_mode": {
    "name": "ipython",
    "version": 3
   },
   "file_extension": ".py",
   "mimetype": "text/x-python",
   "name": "python",
   "nbconvert_exporter": "python",
   "pygments_lexer": "ipython3",
   "version": "3.6.0"
  }
 },
 "nbformat": 4,
 "nbformat_minor": 1
}
